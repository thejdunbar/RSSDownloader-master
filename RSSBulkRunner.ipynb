{
    "cells": [
        {
            "cell_type": "code",
            "execution_count": 19,
            "source": [
                "# This script is used to enter multiple RSS feeds and loop through until they are done\n",
                "\n",
                "# The sections:\n",
                "\n",
                "\n",
                "# Import libraries\n",
                "import wget\n",
                "import feedparser\n",
                "import glob\n",
                "import os\n",
                "from pathlib import Path\n",
                "from os import makedirs\n",
                "\n",
                "# Input scripts\n",
                "\n",
                "\n",
                "# Manager Tools list\n",
                "ListOfFeeds=[\"https://www.manager-tools.com/podcasts/basics-rss.xml\"\n",
                ",\"https://files.manager-tools.com/files/public/feeds/hall-of-fame.xml\"\n",
                ",\"https://files.manager-tools.com/files/public/feeds/the-effective-manager-book.xml\"\n",
                ",\"https://files.manager-tools.com/files/public/feeds/hiring.xml\"\n",
                ",\"https://files.manager-tools.com/files/public/feeds/one-on-ones.xml\"\n",
                ",\"https://files.manager-tools.com/files/public/feeds/feedback.xml\"\n",
                ",\"https://files.manager-tools.com/files/public/feeds/coaching.xml\"\n",
                ",\"https://files.manager-tools.com/files/public/feeds/delegation.xml\"\n",
                ",\"https://files.manager-tools.com/files/public/feeds/new-manager.xml\"\n",
                ",\"https://files.manager-tools.com/files/public/feeds/management-basics.xml\"\n",
                ",\"https://files.manager-tools.com/files/public/feeds/project-management.xml\"\n",
                ",\"https://files.manager-tools.com/files/public/feeds/politics.xml\"\n",
                ",\"https://files.manager-tools.com/files/public/feeds/presentations.xml\"]\n",
                "\n",
                "#\n",
                "    \n",
                "\n",
                "# Count/print # of files in each location\n",
                "def Get_Feed(rss_to_load):\n",
                "    # Load the RSS Feed\n",
                "    print(\"Getting feed - \" + rss_to_load + \" please wait...\")\n",
                "    rss_feed_load = feedparser.parse(rss_to_load)\n",
                "    rss_length = len(rss_feed_load.entries)\n",
                "    #print(\"Feed loaded.\")\n",
                "    # Pass back a list\n",
                "    print(rss_length)\n",
                "    return rss_feed_load, rss_length\n",
                "# for rss_to_load in ListOfFeeds:\n",
                "#     Get_Feed(rss_to_load)\n",
                "#     #print(rss_length)\n",
                "\n",
                "\n",
                "\n",
                "# Extract folder from url\n",
                "def create_folder(url):\n",
                "    parent_dir=\"/home/blitzaction/SynologyDrive/-=LEARN=-/2021RELEARN/Podcasts/\"\n",
                "    folder=Path((url[url.find(\"feeds/\")+6:99])).stem.capitalize()\n",
                "    path = os.path.join(parent_dir, folder)\n",
                "    if not os.path.exists(path):\n",
                "        os.makedirs(path)\n",
                "        print(\"Directory '% s' created\" % folder)\n",
                "\n",
                "\n",
                "\n",
                "# Message complete\n"
            ],
            "outputs": [],
            "metadata": {}
        },
        {
            "cell_type": "code",
            "execution_count": 20,
            "source": [
                "# Loop\n",
                "for element in ListOfFeeds:\n",
                "    # create directory\n",
                "    create_folder(element)# note that parent_dir is hardcoded\n",
                "    # download for each\n",
                "    "
            ],
            "outputs": [
                {
                    "output_type": "stream",
                    "name": "stdout",
                    "text": [
                        "Directory 'Basics-rss' created\n",
                        "Directory 'Hall-of-fame' created\n",
                        "Directory 'The-effective-manager-book' created\n",
                        "Directory 'Hiring' created\n",
                        "Directory 'One-on-ones' created\n",
                        "Directory 'Feedback' created\n",
                        "Directory 'Coaching' created\n",
                        "Directory 'Delegation' created\n",
                        "Directory 'New-manager' created\n",
                        "Directory 'Management-basics' created\n",
                        "Directory 'Project-management' created\n",
                        "Directory 'Politics' created\n",
                        "Directory 'Presentations' created\n"
                    ]
                }
            ],
            "metadata": {}
        },
        {
            "cell_type": "code",
            "execution_count": null,
            "source": [],
            "outputs": [],
            "metadata": {}
        },
        {
            "cell_type": "code",
            "execution_count": null,
            "source": [],
            "outputs": [],
            "metadata": {}
        },
        {
            "cell_type": "code",
            "execution_count": null,
            "source": [],
            "outputs": [],
            "metadata": {}
        }
    ],
    "metadata": {
        "orig_nbformat": 4,
        "language_info": {
            "name": "python",
            "version": "3.8.10",
            "mimetype": "text/x-python",
            "codemirror_mode": {
                "name": "ipython",
                "version": 3
            },
            "pygments_lexer": "ipython3",
            "nbconvert_exporter": "python",
            "file_extension": ".py"
        },
        "kernelspec": {
            "name": "python3",
            "display_name": "Python 3.8.10 64-bit"
        },
        "interpreter": {
            "hash": "31f2aee4e71d21fbe5cf8b01ff0e069b9275f58929596ceb00d14d90e3e16cd6"
        }
    },
    "nbformat": 4,
    "nbformat_minor": 2
}