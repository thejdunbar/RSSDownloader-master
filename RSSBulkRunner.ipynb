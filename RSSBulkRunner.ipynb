{
    "cells": [
        {
            "cell_type": "code",
            "execution_count": 2,
            "source": [
                "# This script is used to enter multiple RSS feeds and loop through until they are done\n",
                "\n",
                "# The sections:\n",
                "    # Import libraries/scripts\n",
                "    # Hardcode lists if neeeded\n",
                "    # Import additional functions\n",
                "    # Loop through all the feeds\n",
                "\n",
                "\n",
                "# Import libraries\n",
                "import wget\n",
                "import feedparser\n",
                "import glob\n",
                "import os\n",
                "from pathlib import Path\n",
                "from os import makedirs\n",
                "\n",
                "# Input scripts\n",
                "import RSSfuncs\n",
                "    # to use these funcs, use RSSfuncs.get_input(anyarugments)"
            ],
            "outputs": [
                {
                    "output_type": "stream",
                    "name": "stdout",
                    "text": [
                        "Getting feed - https://files.manager-tools.com/files/public/feeds/hall-of-fame.xml please wait...\n",
                        "Feed loaded.\n",
                        "There are 126 episodes in this feed.\n",
                        "RSS feeds are ordered from most recent entries first, descending order in.\n",
                        "If an episode exists in the target directory the download will skip that file.\n",
                        "-------------------------------\n",
                        "-------------------------------\n",
                        "INPUT ERROR - Please Enter A Number Only.\n",
                        "There are 126 episodes in this feed.\n",
                        "RSS feeds are ordered from most recent entries first, descending order in.\n",
                        "If an episode exists in the target directory the download will skip that file.\n",
                        "-------------------------------\n",
                        "-------------------------------\n",
                        "INPUT ERROR - Please Enter A Number Only.\n",
                        "There are 126 episodes in this feed.\n",
                        "RSS feeds are ordered from most recent entries first, descending order in.\n",
                        "If an episode exists in the target directory the download will skip that file.\n",
                        "-------------------------------\n",
                        "-------------------------------\n",
                        "INPUT ERROR - Please Enter A Number Only.\n",
                        "There are 126 episodes in this feed.\n",
                        "RSS feeds are ordered from most recent entries first, descending order in.\n",
                        "If an episode exists in the target directory the download will skip that file.\n",
                        "-------------------------------\n",
                        "-------------------------------\n",
                        "INPUT ERROR - Please Enter A Number Only.\n",
                        "There are 126 episodes in this feed.\n",
                        "RSS feeds are ordered from most recent entries first, descending order in.\n",
                        "If an episode exists in the target directory the download will skip that file.\n",
                        "-------------------------------\n",
                        "-------------------------------\n",
                        "Downloading 1 file to - /home/blitzaction/SynologyDrive/-=LEARN=-/2021RELEARN/Podcasts/Hall-of-fame\n",
                        "File Exists - SKIPPING DOWNLOAD - manager-tools-2008-04-07.mp3\n",
                        "--- DOWNLOAD COMPLETE ---\n"
                    ]
                }
            ],
            "metadata": {}
        },
        {
            "cell_type": "code",
            "execution_count": 3,
            "source": [
                "# LIST OF INPUTS NEEDED\n",
                "# NOTE: If this is not used then user will be asked for their input, so no worries\n",
                "\n",
                "\n",
                "# Manager Tools list\n",
                "ListOfFeeds=[\"https://www.manager-tools.com/podcasts/basics-rss.xml\"\n",
                ",\"https://files.manager-tools.com/files/public/feeds/hall-of-fame.xml\"\n",
                ",\"https://files.manager-tools.com/files/public/feeds/the-effective-manager-book.xml\"\n",
                ",\"https://files.manager-tools.com/files/public/feeds/hiring.xml\"\n",
                ",\"https://files.manager-tools.com/files/public/feeds/one-on-ones.xml\"\n",
                ",\"https://files.manager-tools.com/files/public/feeds/feedback.xml\"\n",
                ",\"https://files.manager-tools.com/files/public/feeds/coaching.xml\"\n",
                ",\"https://files.manager-tools.com/files/public/feeds/delegation.xml\"\n",
                ",\"https://files.manager-tools.com/files/public/feeds/new-manager.xml\"\n",
                ",\"https://files.manager-tools.com/files/public/feeds/management-basics.xml\"\n",
                ",\"https://files.manager-tools.com/files/public/feeds/project-management.xml\"\n",
                ",\"https://files.manager-tools.com/files/public/feeds/politics.xml\"\n",
                ",\"https://files.manager-tools.com/files/public/feeds/presentations.xml\"]\n",
                "\n",
                "parent_dir=\"/home/blitzaction/SynologyDrive/-=LEARN=-/2021RELEARN/Podcasts/\""
            ],
            "outputs": [],
            "metadata": {}
        },
        {
            "cell_type": "code",
            "execution_count": 4,
            "source": [
                "# Additional functions (NOTE: Move this over to the funcs py file when done)\n",
                "\n",
                "# Count/print # of files in each location\n",
                "def Get_Feed(rss_to_load):\n",
                "    # Load the RSS Feed\n",
                "    print(\"Getting feed - \" + rss_to_load + \" please wait...\")\n",
                "    rss_feed_load = feedparser.parse(rss_to_load)\n",
                "    rss_length = len(rss_feed_load.entries)\n",
                "    #print(\"Feed loaded.\")\n",
                "    # Pass back a list\n",
                "    print(rss_length)\n",
                "    return rss_feed_load, rss_length\n",
                "# for rss_to_load in ListOfFeeds:\n",
                "#     Get_Feed(rss_to_load)\n",
                "#     #print(rss_length)\n",
                "\n",
                "# Extract folder from url\n",
                "def create_folder(url):\n",
                "    #parent_dir=\"/home/blitzaction/SynologyDrive/-=LEARN=-/2021RELEARN/Podcasts/\"\n",
                "    folder=Path((url[url.find(\"feeds/\")+6:99])).stem.capitalize()\n",
                "    path = os.path.join(parent_dir, folder)\n",
                "    if not os.path.exists(path):\n",
                "        os.makedirs(path)\n",
                "        print(\"Directory '% s' created\" % folder)"
            ],
            "outputs": [],
            "metadata": {}
        },
        {
            "cell_type": "code",
            "execution_count": 20,
            "source": [
                "# Loop of function\n",
                "\n",
                "\n",
                "# Check if ListOfFeeds exist, if not, request URL from user\n",
                "try:\n",
                "    ListOfFeeds\n",
                "except NameError:\n",
                "    var_exists = False\n",
                "    ListOfFeeds=input(\"Input URL of RSS feed\")\n",
                "    # create directory\n",
                "    create_folder(element)# note that parent_dir is hardcoded\n",
                "    # download for each\n",
                "    RSSfuncs.Get_Feed(element)\n",
                "\n",
                "else:\n",
                "    var_exists = True\n",
                "    for element in ListOfFeeds:\n",
                "        # create directory\n",
                "        create_folder(element)# note that parent_dir is hardcoded\n",
                "        # download for each\n",
                "        RSSfuncs.Get_Feed(element)\n",
                "\n",
                "\n",
                "    "
            ],
            "outputs": [
                {
                    "output_type": "stream",
                    "name": "stdout",
                    "text": [
                        "Directory 'Basics-rss' created\n",
                        "Directory 'Hall-of-fame' created\n",
                        "Directory 'The-effective-manager-book' created\n",
                        "Directory 'Hiring' created\n",
                        "Directory 'One-on-ones' created\n",
                        "Directory 'Feedback' created\n",
                        "Directory 'Coaching' created\n",
                        "Directory 'Delegation' created\n",
                        "Directory 'New-manager' created\n",
                        "Directory 'Management-basics' created\n",
                        "Directory 'Project-management' created\n",
                        "Directory 'Politics' created\n",
                        "Directory 'Presentations' created\n"
                    ]
                }
            ],
            "metadata": {}
        },
        {
            "cell_type": "code",
            "execution_count": null,
            "source": [],
            "outputs": [],
            "metadata": {}
        }
    ],
    "metadata": {
        "orig_nbformat": 4,
        "language_info": {
            "name": "python",
            "version": "3.8.10",
            "mimetype": "text/x-python",
            "codemirror_mode": {
                "name": "ipython",
                "version": 3
            },
            "pygments_lexer": "ipython3",
            "nbconvert_exporter": "python",
            "file_extension": ".py"
        },
        "kernelspec": {
            "name": "python3",
            "display_name": "Python 3.8.10 64-bit"
        },
        "interpreter": {
            "hash": "31f2aee4e71d21fbe5cf8b01ff0e069b9275f58929596ceb00d14d90e3e16cd6"
        }
    },
    "nbformat": 4,
    "nbformat_minor": 2
}