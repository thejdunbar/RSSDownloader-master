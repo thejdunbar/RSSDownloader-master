{
    "cells": [
        {
            "cell_type": "code",
            "execution_count": 18,
            "source": [
                "# This script is used to enter multiple RSS feeds and loop through until they are done\n",
                "\n",
                "# The sections:\n",
                "\n",
                "\n",
                "\n",
                "# Input scripts\n",
                "\n",
                "#RSS_Target = \"https://files.manager-tools.com/files/public/feeds/career_tools_podcasts.xml\"\n",
                "\n",
                "\n",
                "#Manager Tools\n",
                "ListOfFeeds=[\"https://www.manager-tools.com/podcasts/basics-rss.xml\"\n",
                ",\"https://files.manager-tools.com/files/public/feeds/hall-of-fame.xml\"\n",
                ",\"https://files.manager-tools.com/files/public/feeds/the-effective-manager-book.xml\"\n",
                ",\"https://files.manager-tools.com/files/public/feeds/hiring.xml\"\n",
                ",\"https://files.manager-tools.com/files/public/feeds/one-on-ones.xml\"\n",
                ",\"https://files.manager-tools.com/files/public/feeds/feedback.xml\"\n",
                ",\"https://files.manager-tools.com/files/public/feeds/coaching.xml\"\n",
                ",\"https://files.manager-tools.com/files/public/feeds/delegation.xml\"\n",
                ",\"https://files.manager-tools.com/files/public/feeds/new-manager.xml\"\n",
                ",\"https://files.manager-tools.com/files/public/feeds/management-basics.xml\"\n",
                ",\"https://files.manager-tools.com/files/public/feeds/project-management.xml\"\n",
                ",\"https://files.manager-tools.com/files/public/feeds/politics.xml\"\n",
                ",\"https://files.manager-tools.com/files/public/feeds/presentations.xml\"]\n",
                "\n",
                "# Loop\n",
                "\n",
                "# Count/print # of files in each location\n",
                "\n",
                "# Extract folder from url\n",
                "\n",
                "import pandas as pd\n",
                "for item in ListOfFeeds:\n",
                "    str.find(\"feeds/\"\n",
                "\n",
                "\n",
                "\n",
                "# Message complete\n"
            ],
            "outputs": [
                {
                    "output_type": "execute_result",
                    "data": {
                        "text/plain": [
                            "13"
                        ]
                    },
                    "metadata": {},
                    "execution_count": 18
                }
            ],
            "metadata": {}
        },
        {
            "cell_type": "code",
            "execution_count": 39,
            "source": [
                "from pathlib import Path\n",
                "from os import makedirs\n",
                "\n",
                "url=\"https://files.manager-tools.com/files/public/feeds/presentations.xml\"\n",
                "parent_dir=\"/home/blitzaction/SynologyDrive/-=LEARN=-/2021RELEARN/Podcasts/\"\n",
                "directory=Path((url[url.find(\"feeds/\")+6:99])).stem.capitalize()\n",
                "\n",
                "\n",
                "cwd = os.getcwd()\n",
                "print (cwd)\n",
                "print (\"Creating Folder :\",directory)\n",
                "\n",
                "# Path\n",
                "path = os.path.join(parent_dir, directory)\n",
                "  \n",
                "# Create the directory\n",
                "# 'GeeksForGeeks' in\n",
                "# '/home / User / Documents'\n",
                "os.mkdir(path)\n",
                "print(\"Directory '% s' created\" % directory)\n",
                "\n",
                "#print(os.path.splittext)"
            ],
            "outputs": [
                {
                    "output_type": "stream",
                    "name": "stdout",
                    "text": [
                        "/home/blitzaction/SynologyDrive/-=LEARN=-/2021RELEARN/GitHub_Local/RSSDownloader-master\n",
                        "Creating Folder : Presentations\n",
                        "Directory 'Presentations' created\n"
                    ]
                }
            ],
            "metadata": {}
        },
        {
            "cell_type": "code",
            "execution_count": null,
            "source": [],
            "outputs": [],
            "metadata": {}
        }
    ],
    "metadata": {
        "orig_nbformat": 4,
        "language_info": {
            "name": "python",
            "version": "3.8.10",
            "mimetype": "text/x-python",
            "codemirror_mode": {
                "name": "ipython",
                "version": 3
            },
            "pygments_lexer": "ipython3",
            "nbconvert_exporter": "python",
            "file_extension": ".py"
        },
        "kernelspec": {
            "name": "python3",
            "display_name": "Python 3.8.10 64-bit"
        },
        "interpreter": {
            "hash": "31f2aee4e71d21fbe5cf8b01ff0e069b9275f58929596ceb00d14d90e3e16cd6"
        }
    },
    "nbformat": 4,
    "nbformat_minor": 2
}