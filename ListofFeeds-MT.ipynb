print("hello world")



Manager Tools "Basics"


Manager Tools Archive Feed

Hall Of Fame Feed
Our best, most recommended, most downloaded, most requested, or most commented about guidance.

Duration:  30-40 Minutes

Updates:  Periodically




Manager Tools "Basics"

If you are new to Manager Tools, you may find the Manager Tools "Basics" page a useful resource. Now that we've been producing weekly podcasts for over 9 years, new listeners to the show are often confused (understandably so) on where to start. What are the foundational podcasts, the core principles that underly the Manager Tools philosophy? For those folks, we've created the Manager Tools Basics - a list of podcasts that cover the foundations of our approach to management. If you are new to Manager Tools, this is the place to start!

Duration:  20 - 40 minutes

Updates:  Infrequently

Subscribe
Subscribe directly using your preferred podcasting tool:



Or, copy and past this URL into your podcasting tool:
Subscription link 
https://www.manager-tools.com/podcasts/basics-rss.xml

Manager Tools Archive Feed

Our normal podcast feed only contains the most recent podcasts. If you are a registered member, you can add the Archive Feed containing ALL the Manager Tools podcasts.

Duration:  20 - 40 minutes

Updates:  Sundays

Subscribe
Subscribe directly using your preferred podcasting tool:



Or, copy and past this URL into your podcasting tool:
Subscription link 
https://files.manager-tools.com/files/public/feeds/archive-podcasts.xml

Hall Of Fame Feed
Our best, most recommended, most downloaded, most requested, or most commented about guidance.

Duration:  30-40 Minutes

Updates:  Periodically

Subscribe


Or, copy and past this URL into your podcasting tool:
Subscription link 
https://files.manager-tools.com/files/public/feeds/hall-of-fame.xml

The Effective Manager Book Feed
All of the podcasts referred to in The Effective Manager.

Duration:  30-40 Minutes

Updates:  Periodically

Subscribe


Or, copy and past this URL into your podcasting tool:
Subscription link 
https://files.manager-tools.com/files/public/feeds/the-effective-manager-book.xml

Hiring Feed
All of our guidance on how to interview and hire.  How to screen resumes, phone interview, plan an interviewing day, conduct interviews, create and ask questions, and make decisions.  Hiring is the most important long-term contribution a manager makes to her organization.

Duration:  30-40 Minutes

Updates:  Periodically

Subscribe


Or, copy and past this URL into your podcasting tool:
Subscription link 
https://files.manager-tools.com/files/public/feeds/hiring.xml

One On Ones Feed
All of our guidance on One On Ones, the most powerful Manager Tool.  Why to do them, what happens in them, how to start them, and how to address issues and problems.  It’s all about people, and more communication is better.

Duration:  30-40 Minutes

Updates:  Periodically

Subscribe


Or, copy and past this URL into your podcasting tool:
Subscription link 
https://files.manager-tools.com/files/public/feeds/one-on-ones.xml

Feedback Feed
How to communicate about performance with your team in less than 15 seconds using the Manager Tools Feedback Model.  What to say, how to say it, when to say it, and many examples.  Plus, how to deal with resistance and concerns.  You owe your people clarity about how they’re doing.

Duration:  30-40 Minutes

Updates:  Periodically

Subscribe


Or, copy and past this URL into your podcasting tool:
Subscription link 
https://files.manager-tools.com/files/public/feeds/feedback.xml

Coaching Feed
How to help your direct develop themselves in a specific skill or ability.  Everything from how to start to multiple examples of how to set goals and follow through.  Coaching isn’t just for poor performers.   You can coach each of your directs in their One-On-Ones in 5 minutes a week.

Duration:  30-40 Minutes

Updates:  Periodically

Subscribe


Or, copy and past this URL into your podcasting tool:
Subscription link 
https://files.manager-tools.com/files/public/feeds/coaching.xml

Delegation Feed
How to choose what to delegate, how to have the conversation,  whom to delegate to, why to do it, how to handle different situations, and examples.  If you’re “too busy” it’s probably because you’re not delegating enough.

Duration:  30-40 Minutes

Updates:  Periodically

Subscribe


Or, copy and past this URL into your podcasting tool:
Subscription link 
https://files.manager-tools.com/files/public/feeds/delegation.xml

New Managers Feed
What to do and how to do it for new managers.  How to start rolling out the Manager Tools Trinity, how to conduct meetings, how to start in a new role.  It doesn't have to be that hard if you do some basic things diligently.

Duration:  30-40 Minutes

Updates:  Periodically

Subscribe


Or, copy and past this URL into your podcasting tool:
Subscription link 
https://files.manager-tools.com/files/public/feeds/new-manager.xml

Management Basics Feed
Beyond the Manager Tools Trinity.  Communications. Can you be friends with your directs?  Results and Retention.  Many of these casts are in our Hall of Fame.

Duration:  30-40 Minutes

Updates:  Periodically

Subscribe


Or, copy and past this URL into your podcasting tool:
Subscription link 
https://files.manager-tools.com/files/public/feeds/management-basics.xml

Project Management Feed
How to manage projects, focusing on the basic principles: Who Does What By When.  If you’re managing a project, you don’t have managerial role power, but you don’t need it.

Duration:  30-40 Minutes

Updates:  Periodically

Subscribe


Or, copy and past this URL into your podcasting tool:
Subscription link 
https://files.manager-tools.com/files/public/feeds/project-management.xml

Politics Feed
How to understand politics, how to build strong relationships, how to present your ideas, and how to get your ideas approved.  Don’t “play” politics: build strong relationships so you don’t have to.

Duration:  30-40 Minutes

Updates:  Periodically

Subscribe


Or, copy and past this URL into your podcasting tool:
Subscription link 
https://files.manager-tools.com/files/public/feeds/politics.xml

Presentations Feed
How to present to small, medium and large audiences.  How to prepare, how to answer questions, where to stand, how to gesture.  Presentations matter in career development.

Duration:  30-40 Minutes

Updates:  Periodically

Subscribe


Or, copy and past this URL into your podcasting tool:
Subscription link 
https://files.manager-tools.com/files/public/feeds/presentations.xml
